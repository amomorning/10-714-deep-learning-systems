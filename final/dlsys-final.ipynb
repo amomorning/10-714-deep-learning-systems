{
 "cells": [
  {
   "attachments": {},
   "cell_type": "markdown",
   "metadata": {},
   "source": [
    "# Metal Backend for Hardware Acceleration in Needle Framework\n",
    "\n"
   ]
  },
  {
   "attachments": {},
   "cell_type": "markdown",
   "metadata": {},
   "source": [
    "## Introduction\n",
    "We have added a Metal backend to Needle framework to enable GPU acceleration for deep learning computations on M1 Mac. Metal is Apple's graphics framework that provides a low-level programming language called Metal Shading Language (MSL) for writing high-performance shaders and speeding up computations. By using the Metal backend, Needle framework can take advantage of the high-performance GPU on Apple devices and provide faster training speeds and higher performance for deep learning tasks.\n",
    "\n",
    "At the same time, Needle framework also includes a high-level NN module library, which provides a set of neural network layers and components that can be easily combined to create complex model architectures. This library is designed to be flexible and modular, allowing users to easily experiment with different model configurations and architectures.\n",
    "\n",
    "Overall, Needle framework is designed to provide users with a balance of low-level acceleration and high-level convenience, making it easy to build and train deep neural networks for a variety of tasks."
   ]
  },
  {
   "attachments": {},
   "cell_type": "markdown",
   "metadata": {},
   "source": [
    "## Prepare the codebase"
   ]
  },
  {
   "attachments": {},
   "cell_type": "markdown",
   "metadata": {},
   "source": [
    "- Install dependencies:"
   ]
  },
  {
   "cell_type": "code",
   "execution_count": 3,
   "metadata": {},
   "outputs": [
    {
     "name": "stdout",
     "output_type": "stream",
     "text": [
      "Requirement already satisfied: pybind11 in /Users/amo/opt/anaconda3/lib/python3.9/site-packages (2.10.0)\n",
      "Requirement already satisfied: numpy in /Users/amo/opt/anaconda3/lib/python3.9/site-packages (1.21.5)\n"
     ]
    }
   ],
   "source": [
    "!python3 -m pip install pybind11\n",
    "!python3 -m pip install numpy"
   ]
  },
  {
   "attachments": {},
   "cell_type": "markdown",
   "metadata": {},
   "source": [
    "- Append Needle library:"
   ]
  },
  {
   "cell_type": "code",
   "execution_count": 1,
   "metadata": {},
   "outputs": [],
   "source": [
    "import sys\n",
    "sys.path.append('./python')"
   ]
  },
  {
   "attachments": {},
   "cell_type": "markdown",
   "metadata": {},
   "source": [
    "- Build array backend"
   ]
  },
  {
   "cell_type": "code",
   "execution_count": 4,
   "metadata": {},
   "outputs": [
    {
     "name": "stdout",
     "output_type": "stream",
     "text": [
      "-- The C compiler identification is AppleClang 14.0.0.14000029\n",
      "-- The CXX compiler identification is AppleClang 14.0.0.14000029\n",
      "-- Detecting C compiler ABI info\n",
      "-- Detecting C compiler ABI info - done\n",
      "-- Check for working C compiler: /Applications/Xcode.app/Contents/Developer/Toolchains/XcodeDefault.xctoolchain/usr/bin/cc - skipped\n",
      "-- Detecting C compile features\n",
      "-- Detecting C compile features - done\n",
      "-- Detecting CXX compiler ABI info\n",
      "-- Detecting CXX compiler ABI info - done\n",
      "-- Check for working CXX compiler: /Applications/Xcode.app/Contents/Developer/Toolchains/XcodeDefault.xctoolchain/usr/bin/c++ - skipped\n",
      "-- Detecting CXX compile features\n",
      "-- Detecting CXX compile features - done\n",
      "-- Found Python: /Users/amo/opt/anaconda3/bin/python3.9 (found version \"3.9.12\") found components: Development Interpreter Development.Module Development.Embed \n",
      "-- Performing Test HAS_FLTO\n",
      "-- Performing Test HAS_FLTO - Success\n",
      "-- Performing Test HAS_FLTO_THIN\n",
      "-- Performing Test HAS_FLTO_THIN - Success\n",
      "-- Found pybind11: /Users/amo/opt/anaconda3/lib/python3.9/site-packages/pybind11/include (found version \"2.10.0\")\n",
      "\u001b[0mCUDA_TOOLKIT_ROOT_DIR not found or specified\u001b[0m\n",
      "-- Could NOT find CUDA (missing: CUDA_TOOLKIT_ROOT_DIR CUDA_NVCC_EXECUTABLE CUDA_INCLUDE_DIRS CUDA_CUDART_LIBRARY) \n",
      "-- Building metal backend\n",
      "-- Configuring done\n",
      "-- Generating done\n",
      "-- Build files have been written to: /Users/amo/Desktop/learn/dlsys-2022/final\n",
      "[ 25%] \u001b[32mBuilding CXX object CMakeFiles/ndarray_backend_cpu.dir/src/ndarray_backend_cpu.cc.o\u001b[0m\n",
      "[ 50%] \u001b[32m\u001b[1mLinking CXX shared module python/needle/backend_ndarray/ndarray_backend_cpu.cpython-39-darwin.so\u001b[0m\n",
      "ld: warning: -undefined dynamic_lookup may not work with chained fixups\n",
      "[ 50%] Built target ndarray_backend_cpu\n",
      "[ 75%] \u001b[32mBuilding CXX object CMakeFiles/ndarray_backend_metal.dir/src/metal/ndarray_backend_metal.cc.o\u001b[0m\n",
      "[100%] \u001b[32m\u001b[1mLinking CXX shared module python/needle/backend_ndarray/ndarray_backend_metal.cpython-39-darwin.so\u001b[0m\n",
      "ld: warning: -undefined dynamic_lookup may not work with chained fixups\n",
      "[100%] Built target ndarray_backend_metal\n"
     ]
    }
   ],
   "source": [
    "!cmake . && make"
   ]
  },
  {
   "attachments": {},
   "cell_type": "markdown",
   "metadata": {},
   "source": [
    "## Metal Shading Language\n",
    "Metal Shading Language (MSL) is a low-level programming language designed for use with Apple's Metal graphics framework. It is intended to provide developers with fine-grained control over the rendering pipeline, allowing for the creation of highly optimized and performant shaders on M1 chips and other Apple devices.\n",
    "\n",
    "Based on the C++ programming language, MSL offers a set of built-in functions and data types for graphics and compute tasks, as well as language extensions specific to Metal, such as support for vertex, fragment, and compute shaders, and resource and memory management."
   ]
  },
  {
   "attachments": {},
   "cell_type": "markdown",
   "metadata": {},
   "source": [
    "\n",
    "\n",
    "### Metal command queue\n",
    "In the Metal architecture, the `MTLDevice` protocol supports methods for encoding and queueing render and compute commands to be submitted to the GPU for execution.\n",
    "\n",
    "A command queue is a structure that organizes the order in which command buffers are executed. Command buffers are collections of encoded commands that are intended for a specific device. To create these command buffers, a command encoder is used to append rendering, computing, and blitting commands. Once the command buffers are complete, they are committed for execution on the device by the command queue. In summary, a command queue consists of a queue of command buffers, where the command encoder append the commands, and then the command queue organizes the order of execution of those command buffers on the device.\n",
    "\n",
    "The `MTLCommandQueue` protocol defines an interface for command queues, primarily supporting methods for creating command buffer objects. The `MTLCommandBuffer` protocol defines an interface for command buffers and provides methods for creating command encoders, enqueueing command buffers for execution, checking status, and other operations.\n",
    "\n",
    "![](imgs/explain-command-buffer.png)\n",
    "\n",
    "We have abstracted a class called `MyMetal` to organize the command queue and submit command buffers to the GPU. This class provides useful methods including `LoadKernelsFromFile` to load kernel command from `.metal` files, `RegisterKernel` on `MTLDevice`, `GetComputePipelineState` for create command buffer, etc. \n",
    "Then we create macros for command encoder to reduce the number of lines of code, which makes the implementation of the array operators more readable.\n",
    "\n",
    "``` cpp\n",
    "#define BEGIN_COMPUTE_COMMAND(command_kernel_name)                             \\\n",
    "  MyMetal* metal = MyMetal::GetInstance();                                     \\\n",
    "  MTL::CommandBuffer* command_buffer =                                         \\\n",
    "      metal->command_queue()->commandBuffer();                                 \\\n",
    "  MTL::ComputeCommandEncoder* command_encoder =                                \\\n",
    "      command_buffer->computeCommandEncoder();                                 \\\n",
    "  command_encoder->setComputePipelineState(                                    \\\n",
    "      metal->GetComputePipelineState(command_kernel_name));\n",
    "\n",
    "#define END_COMPUTE_COMMAND                                                    \\\n",
    "  command_encoder->endEncoding();                                              \\\n",
    "  command_buffer->commit();                                                    \\\n",
    "  command_buffer->waitUntilCompleted();                                        \\\n",
    "  command_encoder->release();                                                  \\\n",
    "  command_buffer->release();\n",
    "\n",
    "```\n",
    "\n"
   ]
  },
  {
   "attachments": {},
   "cell_type": "markdown",
   "metadata": {},
   "source": [
    "### Build Metal library \n",
    "One major difference between the compile process for Cuda and Metal is the support for the g++ compiler. Cuda code can be compiled using the g++ compiler as well as the NVCC compiler provided as part of the Cuda Toolkit. This allows Cuda code to be integrated into a wider range of build systems and development environments.\n",
    "\n",
    "However, Metal code is not supported by the g++ compiler and must be compiled using the Xcode build tools. This processes can also be done Without using Xcode by integrating the command line utilities into `CMakeLists.txt`. \n",
    "\n",
    "``` bash\n",
    "xcrun -sdk macosx metal src/metal/kernels.metal -c -o kernels.air\n",
    "xcrun -sdk macosx metallib kernels.air -o kernels.metallib\n",
    "```\n",
    "\n",
    "As the image shown below, first compile `.metal` files into a single `.air` file, which stores an intermediate representation (IR) of shader language code. Then we use the `metallib` tool to build a Metal `.metallib` library file from IR `.air` files\n",
    "\n",
    "\n",
    "![](imgs/explain-build.png)"
   ]
  },
  {
   "attachments": {},
   "cell_type": "markdown",
   "metadata": {},
   "source": [
    "## Multi-level Operators \n",
    "Take tanh activation function for example, in this pipeline we have actually implement 4 levels of abstraction.\n",
    "\n",
    "### nn.py\n",
    "From NN Module, we have Tanh activation layer. This layer calls tanh from ops.\n",
    "\n",
    "``` python\n",
    "class Tanh(Module):\n",
    "    def forward(self, x: Tensor) -> Tensor:\n",
    "        return ops.tanh(x)\n",
    "```\n",
    "### ops.py\n",
    "In ops, it calls low-level array api to compute the tanh.\n",
    "``` python\n",
    "class Tanh(TensorOp):\n",
    "    def compute(self, a):\n",
    "        return array_api.tanh(a)\n",
    "\n",
    "    def gradient(self, out_grad, node):\n",
    "        tmp = exp(node.inputs[0] * 2)\n",
    "        return ((tmp + 2 + tmp ** -1) ** -1 * 4 * out_grad,)\n",
    "\n",
    "\n",
    "def tanh(a):\n",
    "    return Tanh()(a)\n",
    "```\n",
    "\n",
    "### ndarray_backend_metal.cc\n",
    "The cpp interface of Metal register the kernel from `.metal` file and then encode command to make command buffer ready for execution.\n",
    "``` cpp\n",
    "void EwiseTanh(const MetalArray<scalar_t>& a, MetalArray<scalar_t>* out) {\n",
    "  BEGIN_COMPUTE_COMMAND(\"EwiseTanhKernel\")\n",
    "\n",
    "  command_encoder->setBuffer(a.buffer, 0, 0);\n",
    "  command_encoder->setBuffer(out->buffer, 0, 1);\n",
    "  MetalDims dim = MetalOneDim(a.size);\n",
    "  command_encoder->dispatchThreads(dim.num_threads_per_grid, dim.num_threads_per_group);\n",
    "\n",
    "  END_COMPUTE_COMMAND\n",
    "}\n",
    "```\n",
    "\n",
    "### kernels.metal\n",
    "In kernel command, it finally calls Tanh from Metal api.\n",
    "``` glsl\n",
    "kernel void EwiseTanhKernel(device const float* a [[buffer(0)]],\n",
    "                            device float* out [[buffer(1)]],\n",
    "                            uint index [[thread_position_in_grid]]) {\n",
    "  float tmp = metal::tanh(a[index]);\n",
    "  out[index] = metal::isnan(tmp) ? 1.0: tmp;\n",
    "}\n",
    "```\n"
   ]
  },
  {
   "attachments": {},
   "cell_type": "markdown",
   "metadata": {},
   "source": [
    "## Results\n",
    "\n",
    "Based on the assignments and lectures, we implemented matrix multiplication benchmark between Metal backend and CPU backend and a small GAN for testing framework performance using the Metal backend. "
   ]
  },
  {
   "cell_type": "code",
   "execution_count": 5,
   "metadata": {},
   "outputs": [],
   "source": [
    "import needle as ndl\n",
    "import numpy as np\n",
    "from needle import nn\n",
    "from matplotlib import pyplot as plt"
   ]
  },
  {
   "attachments": {},
   "cell_type": "markdown",
   "metadata": {},
   "source": [
    "### Matrix Multiplication Benchmark"
   ]
  },
  {
   "cell_type": "code",
   "execution_count": 11,
   "metadata": {},
   "outputs": [],
   "source": [
    "import timeit\n",
    "\n",
    "def matmul_benchmark(N, M, K, number=5):\n",
    "    print(f\"\\n{N=}, {M=}, {K=}\")\n",
    "    A, B = np.random.rand(N, M), np.random.rand(M, K)\n",
    "\n",
    "    A_cpu = ndl.NDArray(A, device=ndl.cpu())\n",
    "    B_cpu = ndl.NDArray(B, device=ndl.cpu())\n",
    "    A_metal = ndl.NDArray(A, device=ndl.metal())\n",
    "    B_metal = ndl.NDArray(B, device=ndl.metal())\n",
    "\n",
    "    matmul_cpu = timeit.timeit(lambda: A_cpu @ B_cpu, number=number)\n",
    "    matmul_metal = timeit.timeit(lambda: A_metal @ B_metal, number=number)\n",
    "    print(\"error:       \", np.linalg.norm((A_cpu @ B_cpu).numpy() - (A_metal @ B_metal).numpy()))\n",
    "    print(\"matmul_cpu:  \", matmul_cpu)\n",
    "    print(\"matmul_metal:\", matmul_metal)\n",
    "    return matmul_cpu, matmul_metal"
   ]
  },
  {
   "cell_type": "code",
   "execution_count": 3,
   "metadata": {},
   "outputs": [],
   "source": [
    "NMK = [[3, 3, 3], [7, 233, 4], [123, 233, 255], [512, 512, 512], [511, 511, 511]]"
   ]
  },
  {
   "cell_type": "code",
   "execution_count": 17,
   "metadata": {},
   "outputs": [
    {
     "name": "stdout",
     "output_type": "stream",
     "text": [
      "\n",
      "N=3, M=3, K=3\n",
      "error:        5.9604645e-08\n",
      "matmul_cpu:   6.720800001858152e-05\n",
      "matmul_metal: 0.004521334000060051\n",
      "\n",
      "N=7, M=233, K=4\n",
      "error:        1.4774259e-05\n",
      "matmul_cpu:   8.616700006314204e-05\n",
      "matmul_metal: 0.0023432920000914237\n",
      "\n",
      "N=123, M=233, K=255\n",
      "error:        0.0005077991\n",
      "matmul_cpu:   0.02452020900000207\n",
      "matmul_metal: 0.005842083000061393\n",
      "\n",
      "N=512, M=512, K=512\n",
      "error:        0.021418694\n",
      "matmul_cpu:   0.4870377909999206\n",
      "matmul_metal: 0.026566375000015796\n",
      "\n",
      "N=511, M=511, K=511\n",
      "error:        0.0034884026\n",
      "matmul_cpu:   0.5585553329999584\n",
      "matmul_metal: 0.02714383399995768\n"
     ]
    }
   ],
   "source": [
    "for n, m, k in NMK:\n",
    "    matmul_benchmark(n, m, k)"
   ]
  },
  {
   "attachments": {},
   "cell_type": "markdown",
   "metadata": {},
   "source": [
    "We occasionally find another Metal Backend implementation from [wenjunsun/dlsys-needle-m1](https://github.com/wenjunsun/dlsys-needle-m1), and add our benchmark to compare against them."
   ]
  },
  {
   "cell_type": "code",
   "execution_count": 18,
   "metadata": {},
   "outputs": [
    {
     "name": "stdout",
     "output_type": "stream",
     "text": [
      "\n",
      "N=10, M=10, K=10\n",
      "error:        1.5971376e-06\n",
      "matmul_cpu:   3.037500005120819e-05\n",
      "matmul_metal: 0.0006682079999791313\n",
      "\n",
      "N=100, M=100, K=100\n",
      "error:        0.00012618808\n",
      "matmul_cpu:   0.000599541999918074\n",
      "matmul_metal: 0.0015968750000183718\n",
      "\n",
      "N=200, M=200, K=200\n",
      "error:        0.0022389055\n",
      "matmul_cpu:   0.006919000000038977\n",
      "matmul_metal: 0.004522332999954415\n",
      "\n",
      "N=300, M=300, K=300\n",
      "error:        0.0012624112\n",
      "matmul_cpu:   0.019713874999979453\n",
      "matmul_metal: 0.0026288750000276195\n",
      "\n",
      "N=400, M=400, K=400\n",
      "error:        0.012608292\n",
      "matmul_cpu:   0.047196957999972255\n",
      "matmul_metal: 0.004637500000058026\n",
      "\n",
      "N=500, M=500, K=500\n",
      "error:        0.0031566154\n",
      "matmul_cpu:   0.10953416699999252\n",
      "matmul_metal: 0.008505083000045488\n",
      "\n",
      "N=900, M=900, K=900\n",
      "error:        0.009836524\n",
      "matmul_cpu:   0.649776041999985\n",
      "matmul_metal: 0.017196708000028593\n",
      "\n",
      "N=1000, M=1000, K=1000\n",
      "error:        0.11162398\n",
      "matmul_cpu:   0.7162851660000342\n",
      "matmul_metal: 0.027448499999991327\n",
      "\n",
      "N=1500, M=1500, K=1500\n",
      "error:        0.029292392\n",
      "matmul_cpu:   3.376914082999974\n",
      "matmul_metal: 0.06614295899998979\n",
      "\n",
      "N=2000, M=2000, K=2000\n",
      "error:        0.62801796\n",
      "matmul_cpu:   5.643625417000067\n",
      "matmul_metal: 0.1494028749999643\n",
      "\n",
      "N=2500, M=2500, K=2500\n",
      "error:        0.08654105\n",
      "matmul_cpu:   17.495163916000024\n",
      "matmul_metal: 0.2739569159999746\n",
      "\n",
      "N=4000, M=4000, K=4000\n",
      "error:        3.5428355\n",
      "matmul_cpu:   44.20532287499998\n",
      "matmul_metal: 2.1981112080000003\n"
     ]
    }
   ],
   "source": [
    "matrix_sizes = [10, 100, 200, 300, 400, 500, 900, 1000, 1500, 2000, 2500, 4000]\n",
    "cpu_times = []\n",
    "metal_times = []\n",
    "\n",
    "for size in matrix_sizes:\n",
    "    matmul_cpu, matmul_metal = matmul_benchmark(size, size, size, number=1)\n",
    "    cpu_times.append(matmul_cpu)\n",
    "    metal_times.append(matmul_metal)"
   ]
  },
  {
   "cell_type": "code",
   "execution_count": 22,
   "metadata": {},
   "outputs": [],
   "source": [
    "import pandas as pd\n",
    "speed_ups = [cpu_time / metal_time for cpu_time, metal_time in zip(cpu_times, metal_times)]\n",
    "\n",
    "df = pd.DataFrame(list(zip(matrix_sizes, cpu_times, metal_times, speed_ups)), columns = ['matrix_size', 'cpu_time (s)', 'metal_time (s)', 'speedup'])"
   ]
  },
  {
   "cell_type": "code",
   "execution_count": 28,
   "metadata": {},
   "outputs": [
    {
     "data": {
      "text/plain": [
       "<AxesSubplot:title={'center':'matmul duration vs matrix size (y axis is log scaled)'}, xlabel='matrix_size'>"
      ]
     },
     "execution_count": 28,
     "metadata": {},
     "output_type": "execute_result"
    },
    {
     "data": {
      "image/png": "[encoded data removed]",
      "text/plain": [
       "<Figure size 432x288 with 1 Axes>"
      ]
     },
     "metadata": {
      "needs_background": "light"
     },
     "output_type": "display_data"
    }
   ],
   "source": [
    "df.plot(x = 'matrix_size', y = ['cpu_time (s)', 'metal_time (s)'], kind = 'bar', xlabel = 'matrix_size', logy = True, title = 'matmul duration vs matrix size (y axis is log scaled)')\n"
   ]
  },
  {
   "cell_type": "code",
   "execution_count": 26,
   "metadata": {},
   "outputs": [
    {
     "data": {
      "text/plain": [
       "Text(0, 0.5, 'speedups (cpu time / metal time)')"
      ]
     },
     "execution_count": 26,
     "metadata": {},
     "output_type": "execute_result"
    },
    {
     "data": {
      "image/png": "[encoded data removed]",
      "text/plain": [
       "<Figure size 432x288 with 1 Axes>"
      ]
     },
     "metadata": {
      "needs_background": "light"
     },
     "output_type": "display_data"
    }
   ],
   "source": [
    "plt.figure()\n",
    "plt.plot(matrix_sizes, speed_ups)\n",
    "plt.title('matmul speedups comparing metal to cpu')\n",
    "plt.xlabel('matrix size (m = n = p = matrix size)')\n",
    "plt.ylabel('speedups (cpu time / metal time)')"
   ]
  },
  {
   "attachments": {},
   "cell_type": "markdown",
   "metadata": {},
   "source": [
    "### Simple GAN from lecture"
   ]
  },
  {
   "attachments": {},
   "cell_type": "markdown",
   "metadata": {},
   "source": [
    "#### Generate Data"
   ]
  },
  {
   "cell_type": "code",
   "execution_count": 53,
   "metadata": {},
   "outputs": [],
   "source": [
    "A = np.array([[1, 2], [-0.2, 0.5]])\n",
    "mu = np.array([2, 1])\n",
    "# total number of sample data to generated\n",
    "num_sample = 3200\n",
    "data = np.random.normal(0, 1, (num_sample, 2)) @ A + mu"
   ]
  },
  {
   "cell_type": "code",
   "execution_count": 54,
   "metadata": {},
   "outputs": [
    {
     "data": {
      "text/plain": [
       "<matplotlib.legend.Legend at 0x7fa960397970>"
      ]
     },
     "execution_count": 54,
     "metadata": {},
     "output_type": "execute_result"
    },
    {
     "data": {
      "image/png": "[encoded data removed]",
      "text/plain": [
       "<Figure size 432x288 with 1 Axes>"
      ]
     },
     "metadata": {
      "needs_background": "light"
     },
     "output_type": "display_data"
    }
   ],
   "source": [
    "plt.scatter(data[:,0], data[:,1], color=\"blue\", label=\"real data\")\n",
    "plt.legend()"
   ]
  },
  {
   "cell_type": "code",
   "execution_count": 55,
   "metadata": {},
   "outputs": [],
   "source": [
    "def sample_G(model_G, num_samples):\n",
    "    Z = ndl.Tensor(np.random.normal(0, 1, (num_samples, 2)), device=device)\n",
    "    fake_X = model_G(Z)\n",
    "    return fake_X.numpy()"
   ]
  },
  {
   "attachments": {},
   "cell_type": "markdown",
   "metadata": {},
   "source": [
    "#### GAN Loss and GAN Model"
   ]
  },
  {
   "cell_type": "code",
   "execution_count": 56,
   "metadata": {},
   "outputs": [],
   "source": [
    "class GANLoss:\n",
    "    def __init__(self, model_D, opt_D, device=None, dtype='float32'):\n",
    "        self.device = device\n",
    "        self.dtype = dtype\n",
    "        self.model_D = model_D\n",
    "        self.opt_D = opt_D\n",
    "        self.loss_D = nn.SoftmaxLoss()\n",
    "\n",
    "    def _update_D(self, real_X, fake_X):\n",
    "        real_Y = self.model_D(real_X)\n",
    "        fake_Y = self.model_D(fake_X.detach())\n",
    "        batch_size = real_X.shape[0]\n",
    "        ones = ndl.ones(batch_size, device=self.device, dtype=self.dtype)\n",
    "        zeros = ndl.zeros(batch_size, device=self.device, dtype=self.dtype)\n",
    "        loss = self.loss_D(real_Y, ones) + self.loss_D(fake_Y, zeros)\n",
    "        loss.backward()\n",
    "        self.opt_D.step()\n",
    "\n",
    "    def forward(self, fake_X, real_X):\n",
    "        self._update_D(real_X, fake_X)\n",
    "        fake_Y = self.model_D(fake_X)\n",
    "        batch_size = real_X.shape[0]\n",
    "        ones = ndl.ones(batch_size, device=self.device, dtype=self.dtype)\n",
    "        loss = self.loss_D(fake_Y, ones)\n",
    "        return loss"
   ]
  },
  {
   "cell_type": "code",
   "execution_count": 59,
   "metadata": {},
   "outputs": [],
   "source": [
    "device = ndl.metal()\n",
    "\n",
    "model_G = nn.Sequential(nn.Linear(2, 2, device=device))\n",
    "opt_G = ndl.optim.Adam(model_G.parameters(), lr = 0.01)\n",
    "\n",
    "model_D = nn.Sequential(\n",
    "    nn.Linear(2, 20, device=device),\n",
    "    nn.ReLU(),\n",
    "    nn.Linear(20, 10, device=device),\n",
    "    nn.ReLU(),\n",
    "    nn.Linear(10, 2, device=device)\n",
    ")\n",
    "opt_D = ndl.optim.Adam(model_D.parameters(), lr=0.01)\n",
    "gan_loss = GANLoss(model_D, opt_D, device=device)\n",
    "\n",
    "fake_data_init = sample_G(model_G, 3200)"
   ]
  },
  {
   "attachments": {},
   "cell_type": "markdown",
   "metadata": {},
   "source": [
    "#### Training process and results"
   ]
  },
  {
   "cell_type": "code",
   "execution_count": 60,
   "metadata": {},
   "outputs": [],
   "source": [
    "def train_gan(data, batch_size, num_epochs):\n",
    "    assert data.shape[0] % batch_size == 0\n",
    "    for epoch in range(num_epochs):\n",
    "        begin = (batch_size * epoch) % data.shape[0]\n",
    "        X = data[begin: begin+batch_size, :]\n",
    "        Z = np.random.normal(0, 1, (batch_size, 2))\n",
    "        X = ndl.Tensor(X, device=device)\n",
    "        Z = ndl.Tensor(Z, device=device)\n",
    "        fake_X = model_G(Z)\n",
    "        loss = gan_loss.forward(fake_X, X)\n",
    "        loss.backward()\n",
    "        opt_G.step()\n",
    "\n",
    "train_gan(data, 32, 2000)"
   ]
  },
  {
   "cell_type": "code",
   "execution_count": 61,
   "metadata": {},
   "outputs": [
    {
     "data": {
      "text/plain": [
       "<matplotlib.legend.Legend at 0x7fa980dd8a60>"
      ]
     },
     "execution_count": 61,
     "metadata": {},
     "output_type": "execute_result"
    },
    {
     "data": {
      "image/png": "[encoded data removed]",
      "text/plain": [
       "<Figure size 432x288 with 1 Axes>"
      ]
     },
     "metadata": {
      "needs_background": "light"
     },
     "output_type": "display_data"
    }
   ],
   "source": [
    "fake_data_trained = sample_G(model_G, 3200)\n",
    "\n",
    "plt.scatter(data[:,0], data[:,1], color=\"blue\", label=\"real data\")\n",
    "plt.scatter(fake_data_init[:,0], fake_data_init[:,1], color=\"red\", label=\"G(z) at init\")\n",
    "plt.scatter(fake_data_trained[:,0], fake_data_trained[:,1], color=\"pink\", label=\"G(z) trained\")\n",
    "\n",
    "plt.legend()"
   ]
  },
  {
   "attachments": {},
   "cell_type": "markdown",
   "metadata": {},
   "source": [
    "## Conclusion\n",
    "In our project, we added a Metal backend to the Needle framework. We have completed all of the test cases from mugrade grading system and received full score from all assignments. However, we have noticed that the performance of the Metal backend is a little bit slower compared to other acceleration backends.\n",
    "\n",
    "In order to further improve the performance of the Metal backend, it may be necessary to optimize the code and the configuration of the Metal pipeline, as well as to explore other possible performance improvements within the Needle framework. Further optimization and testing may be necessary to fully realize the potential of the Metal backend for hardware acceleration."
   ]
  }
 ],
 "metadata": {
  "kernelspec": {
   "display_name": "base",
   "language": "python",
   "name": "python3"
  },
  "language_info": {
   "codemirror_mode": {
    "name": "ipython",
    "version": 3
   },
   "file_extension": ".py",
   "mimetype": "text/x-python",
   "name": "python",
   "nbconvert_exporter": "python",
   "pygments_lexer": "ipython3",
   "version": "3.9.12"
  },
  "orig_nbformat": 4,
  "vscode": {
   "interpreter": {
    "hash": "15f424d5a25c0b28279cc5dde3c0ce2d37243042d5159ad0f026e088fc4d1ab7"
   }
  }
 },
 "nbformat": 4,
 "nbformat_minor": 2
}
